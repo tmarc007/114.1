{
 "cells": [
  {
   "cell_type": "code",
   "execution_count": 3,
   "id": "1fc853c5-55a2-477b-a60f-269e0374e643",
   "metadata": {},
   "outputs": [],
   "source": [
    "# Simplified implementtation of Stack (using built-ins)\n",
    "class Stack:\n",
    "    def __init__(self):\n",
    "        self.items = []\n",
    "\n",
    "    def push(self, value):\n",
    "        self:items.append(value)\n",
    "\n",
    "    def pop(self):\n",
    "        return self.items.pop()\n",
    "\n",
    "    # nice to have methods\n",
    "    def size(self):\n",
    "        return len(self.items)\n",
    "\n",
    "    def peek(self):\n",
    "        return self.items[len(self.items)-1]\n",
    "\n",
    "    def is_empty(self):\n",
    "        return self.items == []\n",
    "        \n",
    "    "
   ]
  },
  {
   "cell_type": "code",
   "execution_count": 5,
   "id": "a8889b17-e355-43fe-a21c-e5b7954c159a",
   "metadata": {},
   "outputs": [
    {
     "data": {
      "text/plain": [
       "''"
      ]
     },
     "execution_count": 5,
     "metadata": {},
     "output_type": "execute_result"
    }
   ],
   "source": [
    "def invert_str(somestring):\n",
    "    stack = Stack()\n",
    "    for char in somestring:\n",
    "        stack.push(char)\n",
    "    out = \"\"\n",
    "    while not stack.is_empty():\n",
    "        out += stack.pop()\n",
    "    return out\n",
    "\n",
    "invert_str(\"Thomas\")\n"
   ]
  },
  {
   "cell_type": "code",
   "execution_count": 6,
   "id": "cdf927bf-2d3b-459b-ab4b-bcf56c8a4893",
   "metadata": {},
   "outputs": [
    {
     "name": "stdout",
     "output_type": "stream",
     "text": [
      "5\n"
     ]
    }
   ],
   "source": [
    "# In python, the primary data types are:\n",
    "# int, boolean, float\n",
    "\n",
    "x = 5\n",
    "y = x\n",
    "x += 1\n",
    "\n",
    "print(y)"
   ]
  },
  {
   "cell_type": "code",
   "execution_count": 7,
   "id": "8fd20d35-cfb3-4bd6-87ef-c674eeb21de1",
   "metadata": {},
   "outputs": [
    {
     "name": "stdout",
     "output_type": "stream",
     "text": [
      "[1, 2, 3, 4]\n"
     ]
    }
   ],
   "source": [
    "# Other data types and structures pass by reference\n",
    "\n",
    "x = [1, 2, 3]\n",
    "y = x\n",
    "y.append(4)\n",
    "\n",
    "print(x)"
   ]
  },
  {
   "cell_type": "code",
   "execution_count": null,
   "id": "6bf87338-3be1-426c-b663-7969294dc636",
   "metadata": {},
   "outputs": [],
   "source": []
  },
  {
   "cell_type": "code",
   "execution_count": 8,
   "id": "255dcb63-de16-44bc-a862-932d7e0a9c1b",
   "metadata": {},
   "outputs": [
    {
     "name": "stdout",
     "output_type": "stream",
     "text": [
      "9764544\n",
      "9764512\n"
     ]
    }
   ],
   "source": [
    "# In python, the primary data types are:\n",
    "# int, boolean, float\n",
    "\n",
    "x = 5\n",
    "y = x\n",
    "x += 1\n",
    "\n",
    "print(id(x))\n",
    "print(id(y))"
   ]
  },
  {
   "cell_type": "code",
   "execution_count": null,
   "id": "daafed9e-9e82-4f4b-a3ec-2ef22cb3986a",
   "metadata": {},
   "outputs": [],
   "source": []
  },
  {
   "cell_type": "code",
   "execution_count": 9,
   "id": "5ac4e22f-3714-481a-ac44-047fa9c3ec73",
   "metadata": {},
   "outputs": [
    {
     "name": "stdout",
     "output_type": "stream",
     "text": [
      "139851457463552\n",
      "139851457463552\n"
     ]
    }
   ],
   "source": [
    "# Other data types and structures pass by reference\n",
    "\n",
    "x = [1, 2, 3]\n",
    "y = x\n",
    "y.append(4)\n",
    "\n",
    "print(id(x))\n",
    "print(id(y))"
   ]
  },
  {
   "cell_type": "code",
   "execution_count": 10,
   "id": "5e6ce89b-fc94-4dbc-86c4-6b4e9e0ee4bc",
   "metadata": {},
   "outputs": [],
   "source": [
    "class StackII:\n",
    "    class __Node:\n",
    "        def __init__(self, data):\n",
    "            self.data = data\n",
    "            self.below = None\n",
    "\n",
    "        def __init__(self):\n",
    "            self.top = None\n",
    "\n",
    "        def push(self, value):\n",
    "            new_node = self.__Node(value)\n",
    "            if not self.top: # this is the same as \"if self.top == None\"\n",
    "                self.top = new_node\n",
    "            else:\n",
    "                new_node.below = self.top\n",
    "                self.top = new_node\n",
    "\n",
    "        def pop(self):\n",
    "            if self.top:\n",
    "                datum = self.top.data\n",
    "                self.top = self.top.below\n",
    "                return datum\n",
    "            raise IndexError(\"Stack is empty\")\n",
    "\n",
    "        # nice to have methods\n",
    "        def size(self):\n",
    "            pass\n",
    "\n",
    "        def peek(self):\n",
    "            pass\n",
    "\n",
    "        def is_empty(self):\n",
    "            return self.top == None"
   ]
  },
  {
   "cell_type": "code",
   "execution_count": null,
   "id": "65fc761d-4685-44f8-933b-e06cb479f87b",
   "metadata": {},
   "outputs": [],
   "source": [
    "\n",
    "--------------\n",
    "Practice push method with pseudocode...\n",
    "\n",
    "1. create a new node with a receive parameter as its data attribute\n",
    "2. update the \"top\" reference so it points to our new node \n",
    "\n",
    "(what if the stack is not empty?)\n",
    "1. Create a new node with the received parameter as its data\n",
    "2. Update the new node's below ref to point to the \"current top node\"\n",
    "3. Update the \"top\" referrence to point to our newest node in the stack\n",
    "\n",
    "Code for above:\n",
    "def push(self, value):\n",
    "    new_node = self.__Node(value)\n",
    "    if not self.top: # this is the same as \"if self.top == None\"\n",
    "        self.top = new_node\n",
    "    else:\n",
    "        new_node.below = self.top\n",
    "        self.top = noew_node\n",
    "\n",
    "        \n",
    "\n",
    "\n",
    "\n",
    "\n",
    "Code for pop method...\n",
    "\n",
    "def pop(self):\n",
    "if self.top:\n",
    "    datum = self.top.data\n",
    "    self.top =self.top.below\n",
    "    return datum\n",
    "raise IndexError(\"Stack is empty\")\n",
    "\n",
    "\n",
    "\n",
    "\n",
    "\n",
    "\n",
    "\n",
    "        \n",
    "    "
   ]
  }
 ],
 "metadata": {
  "kernelspec": {
   "display_name": "Python 3 (ipykernel)",
   "language": "python",
   "name": "python3"
  },
  "language_info": {
   "codemirror_mode": {
    "name": "ipython",
    "version": 3
   },
   "file_extension": ".py",
   "mimetype": "text/x-python",
   "name": "python",
   "nbconvert_exporter": "python",
   "pygments_lexer": "ipython3",
   "version": "3.8.10"
  }
 },
 "nbformat": 4,
 "nbformat_minor": 5
}
