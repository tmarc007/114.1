{
 "cells": [
  {
   "cell_type": "code",
   "execution_count": 1,
   "id": "12ab2297-9241-434c-8227-bc2d266b4836",
   "metadata": {},
   "outputs": [
    {
     "name": "stdout",
     "output_type": "stream",
     "text": [
      "h\n",
      "e\n",
      "l\n",
      "l\n",
      "o\n",
      ",\n",
      " \n",
      "w\n",
      "o\n",
      "r\n",
      "l\n",
      "d\n",
      "!\n"
     ]
    }
   ],
   "source": [
    "for char in \"hello, world!\":\n",
    "    print(char)\n",
    "\n",
    "# Press shift+enter when your've finshed typing this."
   ]
  },
  {
   "cell_type": "markdown",
   "id": "2f30201f-ecdf-489d-9635-311d79432ba8",
   "metadata": {},
   "source": [
    "# Problem 1\n",
    "## Anagram check\n",
    "\n",
    "Given two strings as inputs to your function, determine if these are anagrams of each other. Return `True` if they are, `False` otherwise.\n",
    "`\n",
    "### Criteria\n",
    "Two string are anagrams if all the criteria below are met:\n",
    "1. They must be of equal length.\n",
    "2. They must use the same letters, the same amount of times.\n",
    "\n",
    "```\n",
    "Examples:\n",
    "anagram_check(\"heart\", \"earth\") should return True\n",
    "anagram_check(\"scar\", \"cars\") should return True\n",
    "anagram_check(\"star\", \"rats\") should return True\n",
    "anagram_check(\"aaab\", \"aabb\") should return True\n",
    "```"
   ]
  },
  {
   "cell_type": "code",
   "execution_count": null,
   "id": "8137e6ba-ab28-45f4-97f2-c1c26d5826df",
   "metadata": {},
   "outputs": [],
   "source": [
    "1. Define method anagram_check to take in string1 and string2 as parameters\n",
    "2. conver both strings to lowercase\n",
    "3. remove spaces from both strings\n",
    "4. chec to see if strings are equal in length\n",
    "    a) if strings ar not equal, return False\n",
    "5. Initialize dictionaries count1 and count2 to hold the character counts for each string\n",
    "6. count the frequencey of each char in string1\n",
    "    a) if the char is in count1, increament count of char by 1\n",
    "    b) if the char isn't in count1, set count of char to 1\n",
    "7. Count the frequency of each char in string2\n",
    "    a)if the char is in count2 , incr count of char by 1\n",
    "    b) IF THE char isn't in count2, set count of char to 1\n",
    "8. compare the two dictionaries\n",
    "    a) if count1 is equal to count2, return True\n",
    "    b) if count1 isn't equal to count2, return False\n"
   ]
  }
 ],
 "metadata": {
  "kernelspec": {
   "display_name": "Python 3 (ipykernel)",
   "language": "python",
   "name": "python3"
  },
  "language_info": {
   "codemirror_mode": {
    "name": "ipython",
    "version": 3
   },
   "file_extension": ".py",
   "mimetype": "text/x-python",
   "name": "python",
   "nbconvert_exporter": "python",
   "pygments_lexer": "ipython3",
   "version": "3.8.10"
  }
 },
 "nbformat": 4,
 "nbformat_minor": 5
}
